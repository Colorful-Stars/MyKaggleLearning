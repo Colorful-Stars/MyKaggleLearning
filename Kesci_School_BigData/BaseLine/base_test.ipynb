{
 "cells": [
  {
   "cell_type": "code",
   "execution_count": 1,
   "metadata": {
    "collapsed": true
   },
   "outputs": [],
   "source": [
    "import pandas as pd"
   ]
  },
  {
   "cell_type": "code",
   "execution_count": 2,
   "metadata": {
    "collapsed": true
   },
   "outputs": [],
   "source": [
    "APP_LAUNCH = \"../DataSets/app_launch_log.txt\"\n",
    "USER_ACTIVITY = \"../DataSets/user_activity_log.txt\"\n",
    "USER_REGISTER = \"../DataSets/user_register_log.txt\"\n",
    "VIDEO_CREATE = \"../DataSets/video_create_log.txt\""
   ]
  },
  {
   "cell_type": "code",
   "execution_count": 3,
   "metadata": {
    "collapsed": false
   },
   "outputs": [
    {
     "data": {
      "text/html": [
       "<div>\n",
       "<table border=\"1\" class=\"dataframe\">\n",
       "  <thead>\n",
       "    <tr style=\"text-align: right;\">\n",
       "      <th></th>\n",
       "      <th>user_id</th>\n",
       "      <th>day</th>\n",
       "    </tr>\n",
       "  </thead>\n",
       "  <tbody>\n",
       "    <tr>\n",
       "      <th>0</th>\n",
       "      <td>383101</td>\n",
       "      <td>1</td>\n",
       "    </tr>\n",
       "    <tr>\n",
       "      <th>1</th>\n",
       "      <td>330955</td>\n",
       "      <td>4</td>\n",
       "    </tr>\n",
       "    <tr>\n",
       "      <th>2</th>\n",
       "      <td>330955</td>\n",
       "      <td>9</td>\n",
       "    </tr>\n",
       "    <tr>\n",
       "      <th>3</th>\n",
       "      <td>330955</td>\n",
       "      <td>11</td>\n",
       "    </tr>\n",
       "    <tr>\n",
       "      <th>4</th>\n",
       "      <td>330955</td>\n",
       "      <td>12</td>\n",
       "    </tr>\n",
       "  </tbody>\n",
       "</table>\n",
       "</div>"
      ],
      "text/plain": [
       "   user_id  day\n",
       "0   383101    1\n",
       "1   330955    4\n",
       "2   330955    9\n",
       "3   330955   11\n",
       "4   330955   12"
      ]
     },
     "execution_count": 3,
     "metadata": {},
     "output_type": "execute_result"
    }
   ],
   "source": [
    "app_launch = pd.read_csv(APP_LAUNCH, sep='\\t', header=None, names=['user_id', 'day'])\n",
    "user_activity = pd.read_csv(USER_ACTIVITY, sep='\\t', header=None, names=['user_id', 'day', 'page', 'video_id', 'author_id', 'action_type'])\n",
    "user_register = pd.read_csv(USER_REGISTER, sep='\\t', header=None, names=['user_id', 'register_day', 'register_type', 'device_type'])\n",
    "video_create = pd.read_csv(VIDEO_CREATE, sep='\\t', header=None, names=['user_id', 'day'])"
   ]
  },
  {
   "cell_type": "code",
   "execution_count": 11,
   "metadata": {
    "collapsed": false
   },
   "outputs": [
    {
     "name": "stdout",
     "output_type": "stream",
     "text": [
      "(251943, 2)\n",
      "(20051557, 6)\n",
      "(51709, 4)\n",
      "(35151, 2)\n"
     ]
    }
   ],
   "source": [
    "print(app_launch.shape)\n",
    "print(user_activity.shape)\n",
    "print(user_register.shape)\n",
    "print(video_create.shape)"
   ]
  }
 ],
 "metadata": {
  "anaconda-cloud": {},
  "kernelspec": {
   "display_name": "Python [default]",
   "language": "python",
   "name": "python3"
  },
  "language_info": {
   "codemirror_mode": {
    "name": "ipython",
    "version": 3
   },
   "file_extension": ".py",
   "mimetype": "text/x-python",
   "name": "python",
   "nbconvert_exporter": "python",
   "pygments_lexer": "ipython3",
   "version": "3.5.2"
  }
 },
 "nbformat": 4,
 "nbformat_minor": 2
}
