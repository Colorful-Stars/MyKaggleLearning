{
 "cells": [
  {
   "cell_type": "code",
   "execution_count": 1,
   "metadata": {
    "collapsed": true
   },
   "outputs": [],
   "source": [
    "import pandas as pd\n",
    "import numpy as np\n",
    "import math\n",
    "import time\n",
    "import datetime\n",
    "\n",
    "from sklearn.linear_model import Ridge\n",
    "import xgboost as xgb\n",
    "import seaborn as sns\n",
    "import matplotlib.pyplot as plt\n",
    "%matplotlib notebook\n",
    "import warnings\n",
    "warnings.filterwarnings('ignore')"
   ]
  },
  {
   "cell_type": "code",
   "execution_count": 2,
   "metadata": {
    "collapsed": true
   },
   "outputs": [],
   "source": [
    "path_train = 'train.csv'\n",
    "path_test = 'test.csv'\n",
    "path_test_out = 'model/'"
   ]
  },
  {
   "cell_type": "code",
   "execution_count": 3,
   "metadata": {
    "collapsed": false
   },
   "outputs": [
    {
     "name": "stdout",
     "output_type": "stream",
     "text": [
      "(69306, 10)\n",
      "(6400, 10)\n"
     ]
    }
   ],
   "source": [
    "train = pd.read_csv(path_train)\n",
    "test = pd.read_csv(path_test)\n",
    "print(train.shape)\n",
    "print(test.shape)"
   ]
  },
  {
   "cell_type": "code",
   "execution_count": 4,
   "metadata": {
    "collapsed": false
   },
   "outputs": [
    {
     "data": {
      "text/plain": [
       "(100,)"
      ]
     },
     "execution_count": 4,
     "metadata": {},
     "output_type": "execute_result"
    }
   ],
   "source": [
    "def label_process(data):\n",
    "    pre_label = data.drop_duplicates()\n",
    "    return pre_label['Y'].values\n",
    "pre_label = label_process(train[[\"TERMINALNO\",\"Y\"]])\n",
    "pre_label.shape"
   ]
  },
  {
   "cell_type": "code",
   "execution_count": 5,
   "metadata": {
    "collapsed": false
   },
   "outputs": [
    {
     "data": {
      "text/html": [
       "<div>\n",
       "<table border=\"1\" class=\"dataframe\">\n",
       "  <thead>\n",
       "    <tr style=\"text-align: right;\">\n",
       "      <th></th>\n",
       "      <th>TERMINALNO</th>\n",
       "      <th>TIME</th>\n",
       "      <th>TRIP_ID</th>\n",
       "      <th>LONGITUDE</th>\n",
       "      <th>LATITUDE</th>\n",
       "      <th>DIRECTION</th>\n",
       "      <th>HEIGHT</th>\n",
       "      <th>SPEED</th>\n",
       "      <th>CALLSTATE</th>\n",
       "      <th>Y</th>\n",
       "    </tr>\n",
       "  </thead>\n",
       "  <tbody>\n",
       "    <tr>\n",
       "      <th>0</th>\n",
       "      <td>1</td>\n",
       "      <td>1476923580</td>\n",
       "      <td>1</td>\n",
       "      <td>122.985168</td>\n",
       "      <td>41.103741</td>\n",
       "      <td>12</td>\n",
       "      <td>39.402588</td>\n",
       "      <td>2.15</td>\n",
       "      <td>0</td>\n",
       "      <td>0.0</td>\n",
       "    </tr>\n",
       "    <tr>\n",
       "      <th>1</th>\n",
       "      <td>1</td>\n",
       "      <td>1476923640</td>\n",
       "      <td>1</td>\n",
       "      <td>122.984398</td>\n",
       "      <td>41.104904</td>\n",
       "      <td>24</td>\n",
       "      <td>39.311157</td>\n",
       "      <td>4.11</td>\n",
       "      <td>0</td>\n",
       "      <td>0.0</td>\n",
       "    </tr>\n",
       "    <tr>\n",
       "      <th>2</th>\n",
       "      <td>1</td>\n",
       "      <td>1476923700</td>\n",
       "      <td>1</td>\n",
       "      <td>122.986496</td>\n",
       "      <td>41.106388</td>\n",
       "      <td>74</td>\n",
       "      <td>34.178955</td>\n",
       "      <td>2.99</td>\n",
       "      <td>0</td>\n",
       "      <td>0.0</td>\n",
       "    </tr>\n",
       "    <tr>\n",
       "      <th>3</th>\n",
       "      <td>1</td>\n",
       "      <td>1476923760</td>\n",
       "      <td>1</td>\n",
       "      <td>122.989769</td>\n",
       "      <td>41.106884</td>\n",
       "      <td>115</td>\n",
       "      <td>37.765381</td>\n",
       "      <td>7.59</td>\n",
       "      <td>0</td>\n",
       "      <td>0.0</td>\n",
       "    </tr>\n",
       "    <tr>\n",
       "      <th>4</th>\n",
       "      <td>1</td>\n",
       "      <td>1476923820</td>\n",
       "      <td>1</td>\n",
       "      <td>122.991089</td>\n",
       "      <td>41.105442</td>\n",
       "      <td>151</td>\n",
       "      <td>36.049194</td>\n",
       "      <td>0.24</td>\n",
       "      <td>0</td>\n",
       "      <td>0.0</td>\n",
       "    </tr>\n",
       "  </tbody>\n",
       "</table>\n",
       "</div>"
      ],
      "text/plain": [
       "   TERMINALNO        TIME  TRIP_ID   LONGITUDE   LATITUDE  DIRECTION  \\\n",
       "0           1  1476923580        1  122.985168  41.103741         12   \n",
       "1           1  1476923640        1  122.984398  41.104904         24   \n",
       "2           1  1476923700        1  122.986496  41.106388         74   \n",
       "3           1  1476923760        1  122.989769  41.106884        115   \n",
       "4           1  1476923820        1  122.991089  41.105442        151   \n",
       "\n",
       "      HEIGHT  SPEED  CALLSTATE    Y  \n",
       "0  39.402588   2.15          0  0.0  \n",
       "1  39.311157   4.11          0  0.0  \n",
       "2  34.178955   2.99          0  0.0  \n",
       "3  37.765381   7.59          0  0.0  \n",
       "4  36.049194   0.24          0  0.0  "
      ]
     },
     "execution_count": 5,
     "metadata": {},
     "output_type": "execute_result"
    }
   ],
   "source": [
    "train.head()"
   ]
  },
  {
   "cell_type": "code",
   "execution_count": 6,
   "metadata": {
    "collapsed": false
   },
   "outputs": [],
   "source": [
    "train = train.drop('Y',axis=1)"
   ]
  },
  {
   "cell_type": "code",
   "execution_count": 7,
   "metadata": {
    "collapsed": false
   },
   "outputs": [],
   "source": [
    "# feature = pd.concat([train,test],keys=['train','test'])\n",
    "# feature.head()"
   ]
  },
  {
   "cell_type": "code",
   "execution_count": 8,
   "metadata": {
    "collapsed": true
   },
   "outputs": [],
   "source": [
    "def timestamp_datetime(value):\n",
    "    format = '%Y-%m-%d %H:%M:%S'\n",
    "    value = time.localtime(value)\n",
    "    dt = time.strftime(format, value)\n",
    "    return dt"
   ]
  },
  {
   "cell_type": "code",
   "execution_count": 9,
   "metadata": {
    "collapsed": true
   },
   "outputs": [],
   "source": [
    "def conver_time(data):\n",
    "    data['Conver_TIME'] = data.TIME.apply(timestamp_datetime)\n",
    "#     data['month'] = data.Conver_TIME.apply(lambda x: int(x[5:7]))\n",
    "    data['hour'] = data.Conver_TIME.apply(lambda x: int(x[11:13]))\n",
    "#     data = data.drop('TIME',axis=1)\n",
    "#     data = data.drop('Conver_TIME',axis=1)\n",
    "    return data"
   ]
  },
  {
   "cell_type": "code",
   "execution_count": 10,
   "metadata": {
    "collapsed": false
   },
   "outputs": [],
   "source": [
    "train = conver_time(train)\n",
    "test = conver_time(test)"
   ]
  },
  {
   "cell_type": "code",
   "execution_count": 11,
   "metadata": {
    "collapsed": false
   },
   "outputs": [],
   "source": [
    "# train = train.sort_values([\"TIME\"])\n",
    "# train.head(50)"
   ]
  },
  {
   "cell_type": "code",
   "execution_count": 12,
   "metadata": {
    "collapsed": false
   },
   "outputs": [],
   "source": [
    "def feature_process(data):\n",
    "    set_data = set(data['TERMINALNO'])\n",
    "    columns=['p_id',\n",
    "             'maxTime',\n",
    "             'phonerisk',\n",
    "             'dir_risk',\n",
    "             'height_risk',\n",
    "             'speed_max',\n",
    "             'speed_mean',\n",
    "             'speed_var',\n",
    "             'height_max',\n",
    "             'height_mean',\n",
    "             'height_var',\n",
    "             'sp_he_mean',\n",
    "             'zao',\n",
    "             'wan',\n",
    "             'shenye',\n",
    "             'weizhi_ratio',\n",
    "             'huchu_ratio',\n",
    "             'huru_ratio',\n",
    "             'liantong_ratio',\n",
    "             'duanlian_ratio',\n",
    "             'call_spped0',\n",
    "             'call_spped1',\n",
    "             'call_spped2',\n",
    "             'call_spped3',\n",
    "             'call_spped4',\n",
    "            ]\n",
    "    feature = pd.DataFrame(columns=columns)\n",
    "    \n",
    "    # 针对每个用户进行分析\n",
    "    for p_id in set_data:\n",
    "        tempData = data.loc[data['TERMINALNO'] == p_id]\n",
    "        tempData = tempData.sort_values([\"TIME\"])\n",
    "\n",
    "        tempTime = tempData[\"TIME\"].iloc[0]\n",
    "        tempSpeed = tempData[\"SPEED\"].iloc[0]\n",
    "        tempDir = tempData[\"DIRECTION\"].iloc[0]\n",
    "        tempHeight = tempData[\"HEIGHT\"].iloc[0]\n",
    "        \n",
    "        # 根据时间信息判断最长时间\n",
    "        maxTime = 0\n",
    "        maxTimelist = []\n",
    "\n",
    "        # 用户行驶过程中，打电话危机上升\n",
    "        phonerisk = 0\n",
    "\n",
    "        # Direction 突变超过\n",
    "        dir_risk = 0\n",
    "\n",
    "        # Height 高度的危险值\n",
    "        height_risk = 0\n",
    "        zao=0\n",
    "        wan=0\n",
    "        shenye=0\n",
    "        \n",
    "        weizhi = 0\n",
    "        huchu = 0\n",
    "        huru = 0\n",
    "        liantong = 0\n",
    "        duanlian = 0\n",
    "        \n",
    "        for index, row in tempData.iterrows():\n",
    "            \n",
    "            hour = row['hour']\n",
    "            if 7 <= hour <= 9:\n",
    "                zao = 1\n",
    "            elif 17 <= hour <= 19:\n",
    "                wan = 1\n",
    "            elif 0 <= hour < 7:\n",
    "                shenye = 1\n",
    "\n",
    "            if tempSpeed > 0 and row['CALLSTATE'] != 4:\n",
    "                if row[\"CALLSTATE\"] == 0:\n",
    "                    phonerisk += math.exp(tempSpeed / 10) * 0.02\n",
    "                else:\n",
    "                    phonerisk += math.exp(tempSpeed / 10)\n",
    "       \n",
    "            if row[\"TIME\"] - tempTime == 60:\n",
    "                maxTime += 60\n",
    "                tempTime = row[\"TIME\"]\n",
    "\n",
    "                # 判断方向变化程度与具有车速之间的危险系数\n",
    "                dir_change = (min(abs(row[\"DIRECTION\"] - tempDir), abs(360 + tempDir - row[\"DIRECTION\"])) / 90.0)\n",
    "                if tempSpeed != 0 and row[\"SPEED\"] > 0:\n",
    "                    dir_risk += math.pow((row[\"SPEED\"] / 10), dir_change)\n",
    "                \n",
    "                # 海拔变化大的情况下和速度的危险系数\n",
    "                height_risk += math.pow(abs(row[\"SPEED\"] - tempSpeed) / 10,(abs(row[\"HEIGHT\"] - tempHeight) / 100))\n",
    "                \n",
    "                tempHeight = row[\"HEIGHT\"]\n",
    "\n",
    "            elif row[\"TIME\"] - tempTime > 60:\n",
    "                maxTimelist.append(maxTime)\n",
    "                maxTime = 0\n",
    "                tempTime = row[\"TIME\"]\n",
    "\n",
    "                tempDir = row[\"DIRECTION\"]\n",
    "                tempHeight = row[\"HEIGHT\"]\n",
    "                tempSpeed = row[\"SPEED\"]\n",
    "                \n",
    "            if row[\"CALLSTATE\"] == 0:\n",
    "                weizhi += 1\n",
    "            elif row[\"CALLSTATE\"] == 1:\n",
    "                huchu += 1\n",
    "            elif row[\"CALLSTATE\"] == 2:\n",
    "                huru += 1\n",
    "            elif row[\"CALLSTATE\"] == 3:\n",
    "                liantong += 1\n",
    "            elif row[\"CALLSTATE\"] == 4:\n",
    "                duanlian += 1\n",
    "                \n",
    "\n",
    "#         call0_spped = call_speed.loc[0]\n",
    "#         call1_spped = call_speed.loc[1]\n",
    "#         call2_spped = call_speed.loc[2]\n",
    "#         call3_spped = call_speed.loc[3]\n",
    "#         call4_spped = call_speed.loc[4]\n",
    "\n",
    "        speed_max = tempData[\"SPEED\"].max()\n",
    "        speed_mean = tempData[\"SPEED\"].mean()\n",
    "        speed_var = tempData[\"SPEED\"].var()\n",
    "        \n",
    "        height_max = tempData[\"HEIGHT\"].max()\n",
    "        height_mean = tempData[\"HEIGHT\"].mean()\n",
    "        height_var = tempData['HEIGHT'].var()\n",
    "        \n",
    "        sp_he_mean = speed_mean * height_mean\n",
    "\n",
    "        maxTimelist.append(maxTime)\n",
    "        maxTime = max(maxTimelist)\n",
    "        \n",
    "        total_callstate = len(tempData[\"CALLSTATE\"])\n",
    "        weizhi_ratio = weizhi / float(total_callstate)\n",
    "        huchu_ratio = huchu / float(total_callstate)\n",
    "        huru_ratio = huru / float(total_callstate)\n",
    "        liantong_ratio = liantong / float(total_callstate)\n",
    "        duanlian_ratio = duanlian / float(total_callstate)\n",
    "        \n",
    "        tempfeature = pd.DataFrame({'p_id':p_id,\n",
    "                                    'maxTime':maxTime,\n",
    "                                    'phonerisk':phonerisk,\n",
    "                                    'dir_risk':dir_risk,\n",
    "                                    'height_risk':height_risk,\n",
    "                                    'speed_max':speed_max,\n",
    "                                    'speed_mean':speed_mean,\n",
    "                                    'speed_var':speed_var,\n",
    "                                    'height_max':height_max,\n",
    "                                    'height_mean':height_mean,\n",
    "                                    'height_var':height_var,\n",
    "                                    'sp_he_mean':sp_he_mean,\n",
    "#                                     'call0_spped':call0_spped,\n",
    "#                                     'call0_spped':call0_spped,\n",
    "#                                     'call2_spped':call2_spped,\n",
    "#                                     'call3_spped':call3_spped,\n",
    "#                                     'call4_spped':call4_spped,\n",
    "                                    'zao':zao,\n",
    "                                    'wan':wan,\n",
    "                                    'shenye':shenye,\n",
    "                                    'weizhi_ratio':weizhi_ratio,\n",
    "                                    'huchu_ratio':huchu_ratio,\n",
    "                                    'huru_ratio':huru_ratio,\n",
    "                                    'liantong_ratio':liantong_ratio,\n",
    "                                    'duanlian_ratio':duanlian_ratio\n",
    "                                    },\n",
    "                                    index=['0'],\n",
    "                                    columns=columns\n",
    "                                    )\n",
    "        \n",
    "        CALLSTATE_SET = set(tempData['CALLSTATE'])\n",
    "        call_speed = tempData[\"SPEED\"].groupby(tempData['CALLSTATE']).mean()\n",
    "        for call_set in CALLSTATE_SET:\n",
    "            tempfeature['call_spped'+str(call_set)] = call_speed.loc[call_set]\n",
    "            \n",
    "        feature = feature.append(tempfeature,ignore_index=True)\n",
    "\n",
    "        \n",
    "    # feature = feature.values\n",
    "    return feature"
   ]
  },
  {
   "cell_type": "code",
   "execution_count": 13,
   "metadata": {
    "collapsed": false
   },
   "outputs": [],
   "source": [
    "feature_train = feature_process(train)\n",
    "feature_train = feature_train.fillna(method='pad')\n",
    "\n",
    "feature_test = feature_process(test)\n",
    "feature_test = feature_test.fillna(method='pad')"
   ]
  },
  {
   "cell_type": "code",
   "execution_count": 14,
   "metadata": {
    "collapsed": false
   },
   "outputs": [
    {
     "name": "stdout",
     "output_type": "stream",
     "text": [
      "(100, 25)\n",
      "(100, 25)\n"
     ]
    }
   ],
   "source": [
    "print(feature_train.shape)\n",
    "print(feature_test.shape)"
   ]
  },
  {
   "cell_type": "code",
   "execution_count": 20,
   "metadata": {
    "collapsed": false
   },
   "outputs": [
    {
     "data": {
      "text/html": [
       "<div>\n",
       "<table border=\"1\" class=\"dataframe\">\n",
       "  <thead>\n",
       "    <tr style=\"text-align: right;\">\n",
       "      <th></th>\n",
       "      <th>p_id</th>\n",
       "      <th>maxTime</th>\n",
       "      <th>phonerisk</th>\n",
       "      <th>dir_risk</th>\n",
       "      <th>height_risk</th>\n",
       "      <th>speed_max</th>\n",
       "      <th>speed_mean</th>\n",
       "      <th>speed_var</th>\n",
       "      <th>height_max</th>\n",
       "      <th>height_mean</th>\n",
       "      <th>...</th>\n",
       "      <th>weizhi_ratio</th>\n",
       "      <th>huchu_ratio</th>\n",
       "      <th>huru_ratio</th>\n",
       "      <th>liantong_ratio</th>\n",
       "      <th>duanlian_ratio</th>\n",
       "      <th>call_spped0</th>\n",
       "      <th>call_spped1</th>\n",
       "      <th>call_spped2</th>\n",
       "      <th>call_spped3</th>\n",
       "      <th>call_spped4</th>\n",
       "    </tr>\n",
       "  </thead>\n",
       "  <tbody>\n",
       "    <tr>\n",
       "      <th>0</th>\n",
       "      <td>1.0</td>\n",
       "      <td>3540.0</td>\n",
       "      <td>22.698271</td>\n",
       "      <td>759.505736</td>\n",
       "      <td>253.833059</td>\n",
       "      <td>32.779999</td>\n",
       "      <td>17.489840</td>\n",
       "      <td>138.297543</td>\n",
       "      <td>224.069580</td>\n",
       "      <td>47.848093</td>\n",
       "      <td>...</td>\n",
       "      <td>0.489796</td>\n",
       "      <td>0.000000</td>\n",
       "      <td>0.000000</td>\n",
       "      <td>0.003401</td>\n",
       "      <td>0.506803</td>\n",
       "      <td>15.924931</td>\n",
       "      <td>NaN</td>\n",
       "      <td>NaN</td>\n",
       "      <td>8.300000</td>\n",
       "      <td>19.063912</td>\n",
       "    </tr>\n",
       "    <tr>\n",
       "      <th>1</th>\n",
       "      <td>2.0</td>\n",
       "      <td>3180.0</td>\n",
       "      <td>67.556593</td>\n",
       "      <td>3646.161361</td>\n",
       "      <td>376.753980</td>\n",
       "      <td>36.119999</td>\n",
       "      <td>9.287734</td>\n",
       "      <td>153.238930</td>\n",
       "      <td>526.300537</td>\n",
       "      <td>71.400718</td>\n",
       "      <td>...</td>\n",
       "      <td>0.396978</td>\n",
       "      <td>0.000000</td>\n",
       "      <td>0.000000</td>\n",
       "      <td>0.038462</td>\n",
       "      <td>0.564560</td>\n",
       "      <td>18.403149</td>\n",
       "      <td>NaN</td>\n",
       "      <td>NaN</td>\n",
       "      <td>3.626071</td>\n",
       "      <td>3.263820</td>\n",
       "    </tr>\n",
       "    <tr>\n",
       "      <th>2</th>\n",
       "      <td>3.0</td>\n",
       "      <td>3600.0</td>\n",
       "      <td>41.291745</td>\n",
       "      <td>597.444549</td>\n",
       "      <td>840.111283</td>\n",
       "      <td>25.440001</td>\n",
       "      <td>7.987331</td>\n",
       "      <td>37.641736</td>\n",
       "      <td>125.748291</td>\n",
       "      <td>43.942672</td>\n",
       "      <td>...</td>\n",
       "      <td>0.870197</td>\n",
       "      <td>0.000000</td>\n",
       "      <td>0.001038</td>\n",
       "      <td>0.000000</td>\n",
       "      <td>0.128764</td>\n",
       "      <td>7.940239</td>\n",
       "      <td>NaN</td>\n",
       "      <td>0.000000</td>\n",
       "      <td>3.626071</td>\n",
       "      <td>8.370000</td>\n",
       "    </tr>\n",
       "    <tr>\n",
       "      <th>3</th>\n",
       "      <td>4.0</td>\n",
       "      <td>2700.0</td>\n",
       "      <td>110.310492</td>\n",
       "      <td>659.554444</td>\n",
       "      <td>656.575946</td>\n",
       "      <td>33.310001</td>\n",
       "      <td>6.312753</td>\n",
       "      <td>39.532636</td>\n",
       "      <td>115.885498</td>\n",
       "      <td>31.659250</td>\n",
       "      <td>...</td>\n",
       "      <td>0.228535</td>\n",
       "      <td>0.007576</td>\n",
       "      <td>0.003788</td>\n",
       "      <td>0.008838</td>\n",
       "      <td>0.751263</td>\n",
       "      <td>5.144309</td>\n",
       "      <td>4.985</td>\n",
       "      <td>22.036667</td>\n",
       "      <td>4.367143</td>\n",
       "      <td>6.625193</td>\n",
       "    </tr>\n",
       "    <tr>\n",
       "      <th>4</th>\n",
       "      <td>5.0</td>\n",
       "      <td>5520.0</td>\n",
       "      <td>39.709307</td>\n",
       "      <td>616.796195</td>\n",
       "      <td>776.837669</td>\n",
       "      <td>53.480000</td>\n",
       "      <td>7.695846</td>\n",
       "      <td>67.545555</td>\n",
       "      <td>117.702576</td>\n",
       "      <td>29.461915</td>\n",
       "      <td>...</td>\n",
       "      <td>1.000000</td>\n",
       "      <td>0.000000</td>\n",
       "      <td>0.000000</td>\n",
       "      <td>0.000000</td>\n",
       "      <td>0.000000</td>\n",
       "      <td>7.695846</td>\n",
       "      <td>4.985</td>\n",
       "      <td>22.036667</td>\n",
       "      <td>4.367143</td>\n",
       "      <td>6.625193</td>\n",
       "    </tr>\n",
       "  </tbody>\n",
       "</table>\n",
       "<p>5 rows × 25 columns</p>\n",
       "</div>"
      ],
      "text/plain": [
       "   p_id  maxTime   phonerisk     dir_risk  height_risk  speed_max  speed_mean  \\\n",
       "0   1.0   3540.0   22.698271   759.505736   253.833059  32.779999   17.489840   \n",
       "1   2.0   3180.0   67.556593  3646.161361   376.753980  36.119999    9.287734   \n",
       "2   3.0   3600.0   41.291745   597.444549   840.111283  25.440001    7.987331   \n",
       "3   4.0   2700.0  110.310492   659.554444   656.575946  33.310001    6.312753   \n",
       "4   5.0   5520.0   39.709307   616.796195   776.837669  53.480000    7.695846   \n",
       "\n",
       "    speed_var  height_max  height_mean     ...       weizhi_ratio  \\\n",
       "0  138.297543  224.069580    47.848093     ...           0.489796   \n",
       "1  153.238930  526.300537    71.400718     ...           0.396978   \n",
       "2   37.641736  125.748291    43.942672     ...           0.870197   \n",
       "3   39.532636  115.885498    31.659250     ...           0.228535   \n",
       "4   67.545555  117.702576    29.461915     ...           1.000000   \n",
       "\n",
       "   huchu_ratio  huru_ratio  liantong_ratio  duanlian_ratio  call_spped0  \\\n",
       "0     0.000000    0.000000        0.003401        0.506803    15.924931   \n",
       "1     0.000000    0.000000        0.038462        0.564560    18.403149   \n",
       "2     0.000000    0.001038        0.000000        0.128764     7.940239   \n",
       "3     0.007576    0.003788        0.008838        0.751263     5.144309   \n",
       "4     0.000000    0.000000        0.000000        0.000000     7.695846   \n",
       "\n",
       "   call_spped1  call_spped2  call_spped3  call_spped4  \n",
       "0          NaN          NaN     8.300000    19.063912  \n",
       "1          NaN          NaN     3.626071     3.263820  \n",
       "2          NaN     0.000000     3.626071     8.370000  \n",
       "3        4.985    22.036667     4.367143     6.625193  \n",
       "4        4.985    22.036667     4.367143     6.625193  \n",
       "\n",
       "[5 rows x 25 columns]"
      ]
     },
     "execution_count": 20,
     "metadata": {},
     "output_type": "execute_result"
    }
   ],
   "source": [
    "feature_train.head()"
   ]
  },
  {
   "cell_type": "code",
   "execution_count": 30,
   "metadata": {
    "collapsed": false,
    "scrolled": true
   },
   "outputs": [
    {
     "data": {
      "text/plain": [
       "CALLSTATE\n",
       "0    5.505000\n",
       "1    6.105000\n",
       "3    8.355000\n",
       "4    7.013714\n",
       "Name: SPEED, dtype: float64"
      ]
     },
     "execution_count": 30,
     "metadata": {},
     "output_type": "execute_result"
    }
   ],
   "source": [
    "call_speed"
   ]
  },
  {
   "cell_type": "code",
   "execution_count": 16,
   "metadata": {
    "collapsed": true
   },
   "outputs": [],
   "source": [
    "#########################################################################################################################\n",
    "# Training Data"
   ]
  },
  {
   "cell_type": "code",
   "execution_count": 17,
   "metadata": {
    "collapsed": true
   },
   "outputs": [],
   "source": [
    "feature_train = feature_train.values\n",
    "feature_test = feature_test.values"
   ]
  },
  {
   "cell_type": "code",
   "execution_count": 18,
   "metadata": {
    "collapsed": false
   },
   "outputs": [
    {
     "name": "stdout",
     "output_type": "stream",
     "text": [
      "(100, 18)\n",
      "(100, 18)\n"
     ]
    }
   ],
   "source": [
    "print(feature_train.shape)\n",
    "print(feature_test.shape)"
   ]
  },
  {
   "cell_type": "code",
   "execution_count": 19,
   "metadata": {
    "collapsed": false
   },
   "outputs": [],
   "source": [
    "################################################################### 线性模型 ###############################################\n",
    "# linreg = Ridge(normalize=True,max_iter=2000,solver=\"sparse_cg\")\n",
    "# linreg.fit(feature_train[:,1:],pre_label)\n",
    "# predict_y_Ridge = linreg.predict(feature_test[:, 1:])"
   ]
  },
  {
   "cell_type": "code",
   "execution_count": 20,
   "metadata": {
    "collapsed": true
   },
   "outputs": [],
   "source": [
    "def xgb_model(X_train, y_train, X_test):\n",
    "    model = xgb.XGBRegressor(\n",
    "        learning_rate=0.001,\n",
    "        n_estimators=1800,\n",
    "        max_depth=6,\n",
    "        min_child_weight=5,\n",
    "        seed=0,\n",
    "        subsample=0.8,\n",
    "        colsample_bytree=0.3,\n",
    "        gamma=0.1,\n",
    "        reg_alpha=3,\n",
    "        reg_lambda=1,\n",
    "        metrics='auc')\n",
    "    model.fit(X_train, y_train)\n",
    "    result = model.predict(X_test)\n",
    "    return result"
   ]
  },
  {
   "cell_type": "code",
   "execution_count": 21,
   "metadata": {
    "collapsed": false
   },
   "outputs": [],
   "source": [
    "predict_y = xgb_model(feature_train[:,1:], pre_label, feature_test[:,1:])"
   ]
  },
  {
   "cell_type": "code",
   "execution_count": 22,
   "metadata": {
    "collapsed": false
   },
   "outputs": [
    {
     "name": "stdout",
     "output_type": "stream",
     "text": [
      "***************** Sub Data *********************\n"
     ]
    }
   ],
   "source": [
    "print('***************** Sub Data *********************')\n",
    "submission = pd.DataFrame(columns=['Id','Pred'])\n",
    "submission['Id'] = feature_test[:,0]\n",
    "submission['Pred'] = predict_y\n",
    "submission.to_csv(path_test_out+ 'sub.csv',index=False)"
   ]
  }
 ],
 "metadata": {
  "anaconda-cloud": {},
  "kernelspec": {
   "display_name": "Python [default]",
   "language": "python",
   "name": "python3"
  },
  "language_info": {
   "codemirror_mode": {
    "name": "ipython",
    "version": 3
   },
   "file_extension": ".py",
   "mimetype": "text/x-python",
   "name": "python",
   "nbconvert_exporter": "python",
   "pygments_lexer": "ipython3",
   "version": "3.5.2"
  }
 },
 "nbformat": 4,
 "nbformat_minor": 2
}
